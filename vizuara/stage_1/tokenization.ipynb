{
 "cells": [
  {
   "cell_type": "markdown",
   "id": "a3e8f88c",
   "metadata": {},
   "source": [
    "## Step 1: Creating Tokens"
   ]
  },
  {
   "cell_type": "code",
   "execution_count": 15,
   "id": "8a788cb9",
   "metadata": {},
   "outputs": [
    {
     "name": "stdout",
     "output_type": "stream",
     "text": [
      "total Number of character:  20479\n",
      "raw_text: I HAD always thought Jack Gisburn rather a cheap genius--though a good fellow enough--so it was no \n"
     ]
    }
   ],
   "source": [
    "with open(\"the-verdict.txt\", \"r\", encoding=\"utf-8\") as f:\n",
    "    raw_text = f.read()\n",
    "\n",
    "print(\"total Number of character: \", len(raw_text))\n",
    "print(f\"raw_text: {raw_text[:99]}\")"
   ]
  },
  {
   "cell_type": "code",
   "execution_count": 16,
   "id": "a69a7990",
   "metadata": {},
   "outputs": [
    {
     "name": "stdout",
     "output_type": "stream",
     "text": [
      "['Hello', ',', '', ' ', 'This', ' ', 'is', ' ', 'me', ',', '', ' ', 'I', ' ', 'would', ' ', 'like', ' ', 'to', ' ', 'test', ' ', 'you', ' ', 'out!']\n"
     ]
    }
   ],
   "source": [
    "import re\n",
    "\n",
    "text = \"Hello, This is me, I would like to test you out!\"\n",
    "results = re.split(r'(\\s|[,.])', text)\n",
    "\n",
    "print(results)"
   ]
  },
  {
   "cell_type": "code",
   "execution_count": 17,
   "id": "04b4dc86",
   "metadata": {},
   "outputs": [
    {
     "name": "stdout",
     "output_type": "stream",
     "text": [
      "['Hello', ',', 'This', 'is', 'me', ',', 'I', 'would', 'like', 'to', 'test', 'you', 'out!'] 13\n"
     ]
    }
   ],
   "source": [
    "results = [item for item in results if item.strip()]\n",
    "print(results, len(results))"
   ]
  },
  {
   "cell_type": "code",
   "execution_count": 18,
   "id": "468a2c94",
   "metadata": {},
   "outputs": [
    {
     "name": "stdout",
     "output_type": "stream",
     "text": [
      "['Hello', ',', 'This', 'is', 'me', ',', 'I', 'would', 'like', '--', 'to', 'test', 'you', 'out', '!', ',', 'should', 'i', 'help', 'you', 'with', 'it', '?', 'and', 'Jack', 'said', ':', 'He', 'is', 'not', 'gonna', 'be', 'available', '_', 'on', '_', '_', '(', 'silently', ')']\n"
     ]
    }
   ],
   "source": [
    "import re\n",
    "\n",
    "text = \"Hello, This is me, I would like -- to test you out!, should i help you with it? and Jack said: He is not gonna be available _ on __ (silently)\"\n",
    "results = re.split(r'(\\s|[,.:;?_!\"()\\'])', text)\n",
    "results = [item for item in results if item.strip()]\n",
    "\n",
    "print(results)"
   ]
  },
  {
   "cell_type": "code",
   "execution_count": 19,
   "id": "3cb8183a",
   "metadata": {},
   "outputs": [
    {
     "name": "stdout",
     "output_type": "stream",
     "text": [
      "preprocessed with whitespaces: 9235\n",
      "Preprocssed without whitespace: 4690\n"
     ]
    }
   ],
   "source": [
    "preprocessed = re.split(r'(\\s|[,.:;?_!\"()\\']|--)', raw_text)\n",
    "print(f\"preprocessed with whitespaces: {len(preprocessed)}\")\n",
    "\n",
    "preprocessed = [item for item in preprocessed if item.strip()]\n",
    "print(f\"Preprocssed without whitespace: {len(preprocessed)}\")\n"
   ]
  },
  {
   "cell_type": "markdown",
   "id": "3e316aa6",
   "metadata": {},
   "source": [
    "## Step 2: Creating Token IDs"
   ]
  },
  {
   "cell_type": "code",
   "execution_count": 20,
   "id": "7de56b2f",
   "metadata": {},
   "outputs": [
    {
     "name": "stdout",
     "output_type": "stream",
     "text": [
      "Vocab size: 1130\n"
     ]
    }
   ],
   "source": [
    "all_words = sorted(set(preprocessed))\n",
    "vocab_size = len(all_words)\n",
    "\n",
    "print(f\"Vocab size: {vocab_size}\")"
   ]
  },
  {
   "cell_type": "code",
   "execution_count": 21,
   "id": "73be0d40",
   "metadata": {},
   "outputs": [],
   "source": [
    "# we building a simpl encoder where assigning vocabs with token ids\n",
    "vocab = {token: integer for integer, token in enumerate(all_words)}"
   ]
  },
  {
   "cell_type": "code",
   "execution_count": 22,
   "id": "55fe5a33",
   "metadata": {},
   "outputs": [
    {
     "name": "stdout",
     "output_type": "stream",
     "text": [
      "! : 0\n",
      "\" : 1\n",
      "' : 2\n",
      "( : 3\n",
      ") : 4\n",
      ", : 5\n",
      "-- : 6\n",
      ". : 7\n",
      ": : 8\n",
      "; : 9\n",
      "? : 10\n",
      "A : 11\n",
      "Ah : 12\n",
      "Among : 13\n",
      "And : 14\n",
      "Are : 15\n",
      "Arrt : 16\n",
      "As : 17\n",
      "At : 18\n",
      "Be : 19\n",
      "Begin : 20\n",
      "Burlington : 21\n",
      "But : 22\n",
      "By : 23\n",
      "Carlo : 24\n",
      "Chicago : 25\n",
      "Claude : 26\n",
      "Come : 27\n",
      "Croft : 28\n",
      "Destroyed : 29\n",
      "Devonshire : 30\n",
      "Don : 31\n",
      "Dubarry : 32\n",
      "Emperors : 33\n",
      "Florence : 34\n",
      "For : 35\n",
      "Gallery : 36\n",
      "Gideon : 37\n",
      "Gisburn : 38\n",
      "Gisburns : 39\n",
      "Grafton : 40\n",
      "Greek : 41\n",
      "Grindle : 42\n",
      "Grindles : 43\n",
      "HAD : 44\n",
      "Had : 45\n",
      "Hang : 46\n",
      "Has : 47\n",
      "He : 48\n",
      "Her : 49\n",
      "Hermia : 50\n"
     ]
    }
   ],
   "source": [
    "for i, item in enumerate(vocab.items()):\n",
    "    print(f\"{item[0]} : {item[1]}\")\n",
    "    if i >= 50:\n",
    "        break"
   ]
  },
  {
   "cell_type": "code",
   "execution_count": 23,
   "id": "aa3c7bc0",
   "metadata": {},
   "outputs": [],
   "source": [
    "# Tokenizer Class\n",
    "class SimpleTokenizerV1:\n",
    "    def __init__(self, vocab):\n",
    "        self.str_to_int = vocab\n",
    "        self.int_to_str = {i:s for s, i in vocab.items()}\n",
    "\n",
    "    def encoder(self, text):\n",
    "        preprocessed = re.split(r'(\\s|[,.:;?_!\"()\\']|--)', text)\n",
    "        preprocessed = [\n",
    "            item.strip() for item in preprocessed if item.strip()\n",
    "        ]\n",
    "        ids = [self.str_to_int[s] for s in preprocessed]\n",
    "        return ids\n",
    "    \n",
    "    def decode(self, ids):\n",
    "        text = \" \".join([self.int_to_str[i] for i in ids])\n",
    "        # Replace spaces before the specified punctuation\n",
    "        text = re.sub(f'\\s+([,.?!\"()\\'])', r'\\1', text)\n",
    "        return text\n"
   ]
  },
  {
   "cell_type": "code",
   "execution_count": 24,
   "id": "3f5a037d",
   "metadata": {},
   "outputs": [
    {
     "name": "stdout",
     "output_type": "stream",
     "text": [
      "[56, 2, 850, 988, 602, 533, 746, 5, 1126, 596, 5, 67, 7, 38, 851, 1108, 754, 793, 7]\n"
     ]
    }
   ],
   "source": [
    "tokenizer = SimpleTokenizerV1(vocab)\n",
    "\n",
    "text = \"It's the last he painted, you know, Mrs. Gisburn said with pardonable pride.\"\n",
    "\n",
    "encoder = tokenizer.encoder(text)\n",
    "print(encoder)"
   ]
  },
  {
   "cell_type": "code",
   "execution_count": 25,
   "id": "d7f3d4c9",
   "metadata": {},
   "outputs": [
    {
     "data": {
      "text/plain": [
       "\"It' s the last he painted, you know, Mrs. Gisburn said with pardonable pride.\""
      ]
     },
     "execution_count": 25,
     "metadata": {},
     "output_type": "execute_result"
    }
   ],
   "source": [
    "tokenizer.decode(encoder)"
   ]
  },
  {
   "cell_type": "markdown",
   "id": "58b1a3ef",
   "metadata": {},
   "source": [
    "### Adding special token context"
   ]
  },
  {
   "cell_type": "code",
   "execution_count": 26,
   "id": "c08f4adc",
   "metadata": {},
   "outputs": [
    {
     "ename": "KeyError",
     "evalue": "'Hello'",
     "output_type": "error",
     "traceback": [
      "\u001b[0;31m---------------------------------------------------------------------------\u001b[0m",
      "\u001b[0;31mKeyError\u001b[0m                                  Traceback (most recent call last)",
      "Cell \u001b[0;32mIn[26], line 4\u001b[0m\n\u001b[1;32m      1\u001b[0m \u001b[38;5;66;03m# try with vocab that is not existing in the dictionary\u001b[39;00m\n\u001b[1;32m      3\u001b[0m text \u001b[38;5;241m=\u001b[39m \u001b[38;5;124m\"\u001b[39m\u001b[38;5;124mHello, How we are driving the car\u001b[39m\u001b[38;5;124m\"\u001b[39m\n\u001b[0;32m----> 4\u001b[0m \u001b[43mtokenizer\u001b[49m\u001b[38;5;241;43m.\u001b[39;49m\u001b[43mencoder\u001b[49m\u001b[43m(\u001b[49m\u001b[43mtext\u001b[49m\u001b[43m)\u001b[49m\n",
      "Cell \u001b[0;32mIn[23], line 12\u001b[0m, in \u001b[0;36mSimpleTokenizerV1.encoder\u001b[0;34m(self, text)\u001b[0m\n\u001b[1;32m      8\u001b[0m preprocessed \u001b[38;5;241m=\u001b[39m re\u001b[38;5;241m.\u001b[39msplit(\u001b[38;5;124mr\u001b[39m\u001b[38;5;124m'\u001b[39m\u001b[38;5;124m(\u001b[39m\u001b[38;5;124m\\\u001b[39m\u001b[38;5;124ms|[,.:;?_!\u001b[39m\u001b[38;5;124m\"\u001b[39m\u001b[38;5;124m()\u001b[39m\u001b[38;5;130;01m\\'\u001b[39;00m\u001b[38;5;124m]|--)\u001b[39m\u001b[38;5;124m'\u001b[39m, text)\n\u001b[1;32m      9\u001b[0m preprocessed \u001b[38;5;241m=\u001b[39m [\n\u001b[1;32m     10\u001b[0m     item\u001b[38;5;241m.\u001b[39mstrip() \u001b[38;5;28;01mfor\u001b[39;00m item \u001b[38;5;129;01min\u001b[39;00m preprocessed \u001b[38;5;28;01mif\u001b[39;00m item\u001b[38;5;241m.\u001b[39mstrip()\n\u001b[1;32m     11\u001b[0m ]\n\u001b[0;32m---> 12\u001b[0m ids \u001b[38;5;241m=\u001b[39m [\u001b[38;5;28mself\u001b[39m\u001b[38;5;241m.\u001b[39mstr_to_int[s] \u001b[38;5;28;01mfor\u001b[39;00m s \u001b[38;5;129;01min\u001b[39;00m preprocessed]\n\u001b[1;32m     13\u001b[0m \u001b[38;5;28;01mreturn\u001b[39;00m ids\n",
      "Cell \u001b[0;32mIn[23], line 12\u001b[0m, in \u001b[0;36m<listcomp>\u001b[0;34m(.0)\u001b[0m\n\u001b[1;32m      8\u001b[0m preprocessed \u001b[38;5;241m=\u001b[39m re\u001b[38;5;241m.\u001b[39msplit(\u001b[38;5;124mr\u001b[39m\u001b[38;5;124m'\u001b[39m\u001b[38;5;124m(\u001b[39m\u001b[38;5;124m\\\u001b[39m\u001b[38;5;124ms|[,.:;?_!\u001b[39m\u001b[38;5;124m\"\u001b[39m\u001b[38;5;124m()\u001b[39m\u001b[38;5;130;01m\\'\u001b[39;00m\u001b[38;5;124m]|--)\u001b[39m\u001b[38;5;124m'\u001b[39m, text)\n\u001b[1;32m      9\u001b[0m preprocessed \u001b[38;5;241m=\u001b[39m [\n\u001b[1;32m     10\u001b[0m     item\u001b[38;5;241m.\u001b[39mstrip() \u001b[38;5;28;01mfor\u001b[39;00m item \u001b[38;5;129;01min\u001b[39;00m preprocessed \u001b[38;5;28;01mif\u001b[39;00m item\u001b[38;5;241m.\u001b[39mstrip()\n\u001b[1;32m     11\u001b[0m ]\n\u001b[0;32m---> 12\u001b[0m ids \u001b[38;5;241m=\u001b[39m [\u001b[38;5;28;43mself\u001b[39;49m\u001b[38;5;241;43m.\u001b[39;49m\u001b[43mstr_to_int\u001b[49m\u001b[43m[\u001b[49m\u001b[43ms\u001b[49m\u001b[43m]\u001b[49m \u001b[38;5;28;01mfor\u001b[39;00m s \u001b[38;5;129;01min\u001b[39;00m preprocessed]\n\u001b[1;32m     13\u001b[0m \u001b[38;5;28;01mreturn\u001b[39;00m ids\n",
      "\u001b[0;31mKeyError\u001b[0m: 'Hello'"
     ]
    }
   ],
   "source": [
    "# try with vocab that is not existing in the dictionary\n",
    "\n",
    "text = \"Hello, How we are driving the car\"\n",
    "tokenizer.encoder(text)"
   ]
  },
  {
   "cell_type": "markdown",
   "id": "a0400c29",
   "metadata": {},
   "source": [
    "Adding two special tokens to handle some of the edge cases in the tokenization"
   ]
  },
  {
   "cell_type": "code",
   "execution_count": 27,
   "id": "f7e0ab2a",
   "metadata": {},
   "outputs": [
    {
     "name": "stdout",
     "output_type": "stream",
     "text": [
      "vocab size : 1132\n"
     ]
    }
   ],
   "source": [
    "all_tokens = sorted(list(set(preprocessed)))\n",
    "all_tokens.extend([\"<|endoftext|>\", \"<|unk|>\"])\n",
    "\n",
    "vocab = {token: integer for integer, token in enumerate(all_tokens)}\n",
    "\n",
    "print(f\"vocab size : {len(vocab)}\")"
   ]
  },
  {
   "cell_type": "code",
   "execution_count": 37,
   "id": "9e827c72",
   "metadata": {},
   "outputs": [],
   "source": [
    "class SimpleTokenizerV2:\n",
    "    def __init__(self, vocab):\n",
    "        self.str_to_int = vocab\n",
    "        self.int_to_str = {i:s for s, i in vocab.items()}\n",
    "\n",
    "    def encoder(self, text):\n",
    "        preprocessed = re.split(r'(\\s|[,.:;?_!\"()\\']|--)', text)\n",
    "        preprocessed = [item.strip() for item in preprocessed if item.strip()]\n",
    "        preprocessed = [\n",
    "            item if item in self.str_to_int else \"<|unk|>\" for item in preprocessed\n",
    "        ]\n",
    "\n",
    "        ids = [self.str_to_int[s] for s in preprocessed]\n",
    "        return ids\n",
    "    \n",
    "    def decoder (self, ids):\n",
    "        text = \" \".join([self.int_to_str[s] for s in ids])\n",
    "        return text"
   ]
  },
  {
   "cell_type": "code",
   "execution_count": 38,
   "id": "cb985b2e",
   "metadata": {},
   "outputs": [
    {
     "name": "stdout",
     "output_type": "stream",
     "text": [
      "(1127, 'younger')\n",
      "(1128, 'your')\n",
      "(1129, 'yourself')\n",
      "(1130, '<|endoftext|>')\n",
      "(1131, '<|unk|>')\n"
     ]
    }
   ],
   "source": [
    "tokenizer = SimpleTokenizerV2(vocab)\n",
    "\n",
    "for i, item in enumerate(list(tokenizer.int_to_str.items())[-5:]):\n",
    "    print(item)"
   ]
  },
  {
   "cell_type": "code",
   "execution_count": 39,
   "id": "294fa991",
   "metadata": {},
   "outputs": [
    {
     "name": "stdout",
     "output_type": "stream",
     "text": [
      "Hello, would like to drive my car on the nation highway <|endoftext|> Le mans raced was ended on july with monsoon weather\n"
     ]
    }
   ],
   "source": [
    "text1 = \"Hello, would like to drive my car on the nation highway\"\n",
    "text2 = \"Le mans raced was ended on july with monsoon weather\"\n",
    "\n",
    "text = \" <|endoftext|> \".join((text1, text2))\n",
    "print(text)"
   ]
  },
  {
   "cell_type": "code",
   "execution_count": 41,
   "id": "fcda0d18",
   "metadata": {},
   "outputs": [
    {
     "name": "stdout",
     "output_type": "stream",
     "text": [
      "[1131, 5, 1120, 628, 1016, 1131, 697, 1131, 727, 988, 1131, 1131, 1130, 1131, 1131, 1131, 1077, 1131, 727, 1131, 1108, 1131, 1131]\n"
     ]
    }
   ],
   "source": [
    "encode_ids = tokenizer.encoder(text)\n",
    "print(encode_ids)"
   ]
  },
  {
   "cell_type": "code",
   "execution_count": 42,
   "id": "1e2a87af",
   "metadata": {},
   "outputs": [
    {
     "name": "stdout",
     "output_type": "stream",
     "text": [
      "<|unk|> , would like to <|unk|> my <|unk|> on the <|unk|> <|unk|> <|endoftext|> <|unk|> <|unk|> <|unk|> was <|unk|> on <|unk|> with <|unk|> <|unk|>\n"
     ]
    }
   ],
   "source": [
    "decode_text = tokenizer.decoder(encode_ids)\n",
    "print(decode_text)\n"
   ]
  },
  {
   "cell_type": "code",
   "execution_count": null,
   "id": "adb57bf1",
   "metadata": {},
   "outputs": [],
   "source": []
  }
 ],
 "metadata": {
  "kernelspec": {
   "display_name": "Python 3",
   "language": "python",
   "name": "python3"
  },
  "language_info": {
   "codemirror_mode": {
    "name": "ipython",
    "version": 3
   },
   "file_extension": ".py",
   "mimetype": "text/x-python",
   "name": "python",
   "nbconvert_exporter": "python",
   "pygments_lexer": "ipython3",
   "version": "3.10.12"
  }
 },
 "nbformat": 4,
 "nbformat_minor": 5
}
