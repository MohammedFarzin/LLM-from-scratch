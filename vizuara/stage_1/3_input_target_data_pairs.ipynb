{
 "cells": [
  {
   "cell_type": "markdown",
   "id": "c533051a",
   "metadata": {},
   "source": [
    "## Creating Input-Target Pairs"
   ]
  },
  {
   "cell_type": "code",
   "execution_count": 3,
   "id": "241eb2f7",
   "metadata": {},
   "outputs": [],
   "source": [
    "import tiktoken"
   ]
  },
  {
   "cell_type": "code",
   "execution_count": 4,
   "id": "ab7aff9a",
   "metadata": {},
   "outputs": [
    {
     "name": "stdout",
     "output_type": "stream",
     "text": [
      "5145\n"
     ]
    }
   ],
   "source": [
    "# Let's load the data\n",
    "\n",
    "with open(\"the-verdict.txt\", \"r\", encoding=\"utf-8\") as f:\n",
    "    raw_text = f.read()\n",
    "\n",
    "# Initialise the tokenizer\n",
    "tokenizer = tiktoken.get_encoding(\"gpt2\")\n",
    "\n",
    "# encode the text data\n",
    "enc_text = tokenizer.encode(raw_text)\n",
    "print(len(enc_text))"
   ]
  },
  {
   "cell_type": "code",
   "execution_count": 5,
   "id": "f1747be0",
   "metadata": {},
   "outputs": [
    {
     "name": "stdout",
     "output_type": "stream",
     "text": [
      "x: [40, 367, 2885, 1464]\n",
      "y: [367, 2885, 1464, 1807]\n"
     ]
    }
   ],
   "source": [
    "CONTEXT_SIZE = 4    # length of the input to llm\n",
    "# The context size (or context window) determines how many tokens the model can consider at once when predicting the next token.\n",
    "\n",
    "x = enc_text[:CONTEXT_SIZE]\n",
    "y = enc_text[1:CONTEXT_SIZE+1]\n",
    "\n",
    "print(f\"x: {x}\")\n",
    "print(f\"y: {y}\")"
   ]
  },
  {
   "cell_type": "code",
   "execution_count": 6,
   "id": "00105dcc",
   "metadata": {},
   "outputs": [
    {
     "name": "stdout",
     "output_type": "stream",
     "text": [
      "[40] ---------------> 367\n",
      "[40, 367] ---------------> 2885\n",
      "[40, 367, 2885] ---------------> 1464\n",
      "[40, 367, 2885, 1464] ---------------> 1807\n"
     ]
    }
   ],
   "source": [
    "# so let's create the next prediction task\n",
    "\n",
    "for i in range(1, CONTEXT_SIZE+1):\n",
    "    context = enc_text[:i]\n",
    "    desired = enc_text[i]\n",
    "\n",
    "    print(f\"{context} ---------------> {desired}\")"
   ]
  },
  {
   "cell_type": "code",
   "execution_count": 7,
   "id": "ca7091d0",
   "metadata": {},
   "outputs": [
    {
     "name": "stdout",
     "output_type": "stream",
     "text": [
      "I ------------>  H\n",
      "I H ------------> AD\n",
      "I HAD ------------>  always\n",
      "I HAD always ------------>  thought\n"
     ]
    }
   ],
   "source": [
    "# Decode the ids to see the prediction with words or tokens\n",
    "for i in range(1, CONTEXT_SIZE+1):\n",
    "    context = enc_text[:i]\n",
    "    desired = enc_text[i]\n",
    "\n",
    "\n",
    "    print(f\"{tokenizer.decode(context)} ------------> {tokenizer.decode([desired])}\")"
   ]
  },
  {
   "cell_type": "markdown",
   "id": "836bb4ed",
   "metadata": {},
   "source": [
    "## Implementing data loaders\n",
    "\n",
    "We will implement a data loader that fetches input-output target pairs using a sliding window approach\n",
    "\n",
    "- To implement efficient dataloaders, we collect inputs in a tensor `x`, where each row represents one input context. The second tensor `y` contains the corresponding prediction targets (next words), which are created by shifting the input by one position"
   ]
  },
  {
   "cell_type": "markdown",
   "id": "29507142",
   "metadata": {},
   "source": [
    "- Step 1: tokenize the entire text \n",
    "- Step 2: Use a sliding window to chunk the book into overlapping sequences of max_length\n",
    "- Step 3: Return the total number of rows in the dataset\n",
    "- Step 4: Return a single row from the dataset"
   ]
  },
  {
   "cell_type": "code",
   "execution_count": 8,
   "id": "ac3d249a",
   "metadata": {},
   "outputs": [],
   "source": [
    "import torch\n",
    "from torch.utils.data import Dataset, DataLoader\n",
    "\n",
    "class GPTDatasetV1(Dataset):\n",
    "    def __init__(self, text, tokenizer, max_length, stride):\n",
    "        self.input_ids = []\n",
    "        self.target_ids = []\n",
    "        \n",
    "        # tokenize the text\n",
    "        token_ids = tokenizer.encode(text, allowed_special={\"<|endoftext|>\"})\n",
    "\n",
    "        # Use a sliding window to chunk the book into overlapping sequences of max_length\n",
    "        for i in range(0, len(token_ids) - max_length, stride):\n",
    "            input_chunk = token_ids[i: i + max_length]\n",
    "            target_chunk = token_ids[i + 1: i + max_length + 1]\n",
    "            self.input_ids.append(torch.tensor(input_chunk))\n",
    "            self.target_ids.append(torch.tensor(target_chunk))\n",
    "\n",
    "    def __len__(self):\n",
    "        return len(self.input_ids)\n",
    "    \n",
    "    def __getitem__(self, idx):\n",
    "        return self.input_ids[idx], self.target_ids[idx]\n"
   ]
  },
  {
   "cell_type": "code",
   "execution_count": 9,
   "id": "bc92859f",
   "metadata": {},
   "outputs": [],
   "source": [
    "def create_dataloader_v1(text, batch_size=4, max_length=256, stride=128, shuffle=True, drop_last=True, num_workers=0):\n",
    "    # Initialize the tokenizer\n",
    "    tokenizer = tiktoken.get_encoding(\"gpt2\")\n",
    "\n",
    "    # create dataset\n",
    "    dataset = GPTDatasetV1(text, tokenizer, max_length, stride)\n",
    "\n",
    "    # create dataloader\n",
    "    dataloader = DataLoader(\n",
    "        dataset,\n",
    "        batch_size=batch_size,\n",
    "        shuffle=shuffle,\n",
    "        drop_last=drop_last,\n",
    "        num_workers=num_workers\n",
    "    )\n",
    "\n",
    "    return dataloader"
   ]
  },
  {
   "cell_type": "code",
   "execution_count": 14,
   "id": "342b9b0d",
   "metadata": {},
   "outputs": [
    {
     "name": "stdout",
     "output_type": "stream",
     "text": [
      "[tensor([[  40,  367, 2885, 1464]]), tensor([[ 367, 2885, 1464, 1807]])]\n"
     ]
    }
   ],
   "source": [
    "dataloader = create_dataloader_v1(raw_text, batch_size=1, max_length=4, stride=1, shuffle=False)\n",
    "\n",
    "data_iter = iter(dataloader)\n",
    "first_iter = next(data_iter)\n",
    "\n",
    "\n",
    "print(first_iter)\n"
   ]
  },
  {
   "cell_type": "code",
   "execution_count": 15,
   "id": "0e4826c3",
   "metadata": {},
   "outputs": [
    {
     "name": "stdout",
     "output_type": "stream",
     "text": [
      "[tensor([[ 367, 2885, 1464, 1807]]), tensor([[2885, 1464, 1807, 3619]])]\n"
     ]
    }
   ],
   "source": [
    "second_iter = next(data_iter)\n",
    "print(second_iter)"
   ]
  },
  {
   "cell_type": "code",
   "execution_count": null,
   "id": "92f2f692",
   "metadata": {},
   "outputs": [],
   "source": []
  }
 ],
 "metadata": {
  "kernelspec": {
   "display_name": "env",
   "language": "python",
   "name": "python3"
  },
  "language_info": {
   "codemirror_mode": {
    "name": "ipython",
    "version": 3
   },
   "file_extension": ".py",
   "mimetype": "text/x-python",
   "name": "python",
   "nbconvert_exporter": "python",
   "pygments_lexer": "ipython3",
   "version": "3.10.12"
  }
 },
 "nbformat": 4,
 "nbformat_minor": 5
}
